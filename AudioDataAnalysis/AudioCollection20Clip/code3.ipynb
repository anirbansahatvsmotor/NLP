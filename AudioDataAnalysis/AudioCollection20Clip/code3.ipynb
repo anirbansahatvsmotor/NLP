{
 "cells": [
  {
   "cell_type": "code",
   "execution_count": 1,
   "id": "8d2246e5",
   "metadata": {},
   "outputs": [],
   "source": [
    "import sounddevice as sd\n",
    "import numpy as np\n",
    "import wave\n",
    "import pyttsx3\n",
    "\n",
    "engine = pyttsx3.init()\n",
    "\n",
    "def speak(text):\n",
    "    print(text)\n",
    "    engine.say(text)\n",
    "    engine.runAndWait()\n",
    "\n",
    "def record_audio(file_path, duration=2, samplerate=16000, channels=1, device=None):\n",
    "    try:\n",
    "        if duration == 2:\n",
    "            speak(\"Please say the wake word 'Hey TVS'\")\n",
    "\n",
    "        print(\"Recording...\")\n",
    "        audio_data = sd.rec(int(duration * samplerate), samplerate=samplerate,\n",
    "                            channels=channels, dtype='int16', device=device)\n",
    "        sd.wait()\n",
    "        print(\"Finished recording.\")\n",
    "\n",
    "        # Save as WAV\n",
    "        with wave.open(file_path, 'wb') as wf:\n",
    "            wf.setnchannels(channels)\n",
    "            wf.setsampwidth(2)  # 16 bits = 2 bytes\n",
    "            wf.setframerate(samplerate)\n",
    "            wf.writeframes(audio_data.tobytes())\n",
    "\n",
    "    except Exception as e:\n",
    "        print(f\"❌ Recording failed: {e}\")\n"
   ]
  },
  {
   "cell_type": "code",
   "execution_count": 14,
   "id": "d96e9d2d",
   "metadata": {},
   "outputs": [
    {
     "name": "stdout",
     "output_type": "stream",
     "text": [
      "Recording...\n",
      "Finished recording.\n"
     ]
    }
   ],
   "source": [
    "c = int(input(\"Enter starting index: \"))\n",
    "for i in range(c, c + 1):\n",
    "    file_path = f\"./20SecMono/c{i}.wav\"\n",
    "    record_audio(file_path, duration=20, device=0)  # <-- try changing device index\n"
   ]
  },
  {
   "cell_type": "code",
   "execution_count": null,
   "id": "f7364fe7",
   "metadata": {},
   "outputs": [
    {
     "name": "stdout",
     "output_type": "stream",
     "text": [
      "Please say the wake word 'Hey TVS'\n",
      "Recording...\n",
      "Finished recording.\n"
     ]
    }
   ],
   "source": [
    "# c = int(input(\"Enter starting index: \"))\n",
    "# for i in range(c, c + 1):\n",
    "#     file_path = f\"c{i}.wav\"\n",
    "#     record_audio(file_path, duration=2, device=0)  # <-- try changing device index"
   ]
  },
  {
   "cell_type": "code",
   "execution_count": null,
   "id": "25d7149c",
   "metadata": {},
   "outputs": [],
   "source": [
    "#Method 2 ############################################"
   ]
  },
  {
   "cell_type": "code",
   "execution_count": 15,
   "id": "c5f8c8fc",
   "metadata": {},
   "outputs": [
    {
     "name": "stderr",
     "output_type": "stream",
     "text": [
      "c:\\Users\\anirban.saha\\AppData\\Local\\Programs\\Python\\Python312\\Lib\\site-packages\\torch\\utils\\_pytree.py:185: FutureWarning: optree is installed but the version is too old to support PyTorch Dynamo in C++ pytree. C++ pytree support is disabled. Please consider upgrading optree using `python3 -m pip install --upgrade 'optree>=0.13.0'`.\n",
      "  warnings.warn(\n"
     ]
    }
   ],
   "source": [
    "import os\n",
    "import pyaudio\n",
    "#import sounddevice as sd\n",
    "import wave\n",
    "import numpy as np\n",
    "import time\n",
    "import scipy.io.wavfile as wav\n",
    "import pyttsx3\n",
    "import torch\n",
    "# Initialize the speech engine\n",
    "engine = pyttsx3.init()\n",
    "def speak(text):\n",
    "    print(text)\n",
    "    engine.say(text)\n",
    "    engine.runAndWait()\n",
    "def record_audio(file_path, duration=10):\n",
    "    CHUNK = 1024\n",
    "    FORMAT = pyaudio.paInt16\n",
    "    CHANNELS = 2\n",
    "    RATE = 48000\n",
    "    RECORD_SECONDS = duration\n",
    "    WAVE_OUTPUT_FILENAME = file_path\n",
    "    audio = pyaudio.PyAudio()\n",
    "    stream = audio.open(format=FORMAT, channels=CHANNELS,\n",
    "                        rate=RATE, input=True,\n",
    "                        frames_per_buffer=CHUNK)\n",
    "   \n",
    "       \n",
    "    print(\"Recording...\")\n",
    "    if(duration==2):\n",
    "        speak(\"Please say the wake word 'Hey TVS'\")\n",
    "    frames = []\n",
    "    for i in range(0, int(RATE / CHUNK * RECORD_SECONDS)):\n",
    "        data = stream.read(CHUNK)\n",
    "        frames.append(data)\n",
    "    print(\"Finished recording.\")\n",
    "    stream.stop_stream()\n",
    "    stream.close()\n",
    "    audio.terminate()\n",
    "    wf = wave.open(WAVE_OUTPUT_FILENAME, 'wb')\n",
    "    wf.setnchannels(CHANNELS)\n",
    "    wf.setsampwidth(audio.get_sample_size(FORMAT))\n",
    "    wf.setframerate(RATE)\n",
    "    wf.writeframes(b''.join(frames))\n",
    "    wf.close()"
   ]
  },
  {
   "cell_type": "code",
   "execution_count": 26,
   "id": "0d1f777a",
   "metadata": {},
   "outputs": [
    {
     "name": "stdout",
     "output_type": "stream",
     "text": [
      "Recording...\n",
      "Finished recording.\n"
     ]
    }
   ],
   "source": [
    "c=int(input())\n",
    "for i in range(c, c+1):\n",
    "    file_path = f\"./20SecMonoM2/d{i}.wav\"\n",
    "    record_audio(file_path, duration=20)"
   ]
  },
  {
   "cell_type": "code",
   "execution_count": null,
   "id": "2423290a",
   "metadata": {},
   "outputs": [],
   "source": []
  }
 ],
 "metadata": {
  "kernelspec": {
   "display_name": "Python 3",
   "language": "python",
   "name": "python3"
  },
  "language_info": {
   "codemirror_mode": {
    "name": "ipython",
    "version": 3
   },
   "file_extension": ".py",
   "mimetype": "text/x-python",
   "name": "python",
   "nbconvert_exporter": "python",
   "pygments_lexer": "ipython3",
   "version": "3.12.1"
  }
 },
 "nbformat": 4,
 "nbformat_minor": 5
}
