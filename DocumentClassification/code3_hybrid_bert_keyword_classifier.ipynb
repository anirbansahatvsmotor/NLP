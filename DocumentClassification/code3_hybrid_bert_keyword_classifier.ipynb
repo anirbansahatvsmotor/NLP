{
 "cells": [
  {
   "cell_type": "code",
   "execution_count": null,
   "id": "0bae8d41",
   "metadata": {},
   "outputs": [],
   "source": []
  },
  {
   "cell_type": "markdown",
   "id": "31f23231",
   "metadata": {},
   "source": [
    "Step 2: Python Code"
   ]
  },
  {
   "cell_type": "code",
   "execution_count": 27,
   "id": "7a627e8e",
   "metadata": {},
   "outputs": [],
   "source": [
    "import os\n",
    "import PyPDF2\n",
    "from transformers import DistilBertTokenizerFast, DistilBertForSequenceClassification, Trainer, TrainingArguments\n",
    "from datasets import Dataset\n",
    "from sklearn.model_selection import train_test_split\n",
    "import pandas as pd\n",
    "import torch\n",
    "from tqdm import tqdm\n"
   ]
  },
  {
   "cell_type": "markdown",
   "id": "9720d49a",
   "metadata": {},
   "source": [
    "Step 3: Extract Text from PDFs"
   ]
  },
  {
   "cell_type": "code",
   "execution_count": 28,
   "id": "bc57db16",
   "metadata": {},
   "outputs": [],
   "source": [
    "def extract_text_from_pdf(pdf_path):\n",
    "    try:\n",
    "        with open(pdf_path, 'rb') as f:\n",
    "            reader = PyPDF2.PdfReader(f)\n",
    "            text = \"\"\n",
    "            for page in reader.pages:\n",
    "                text += page.extract_text() or \"\"\n",
    "            return text[:3000]  # Limit to fit within BERT input\n",
    "    except Exception as e:\n",
    "        print(f\"Error reading {pdf_path}: {e}\")\n",
    "        return \"\"\n"
   ]
  },
  {
   "cell_type": "markdown",
   "id": "a8bd6151",
   "metadata": {},
   "source": [
    "Step 4: Create Sample Dataset (for training)"
   ]
  },
  {
   "cell_type": "code",
   "execution_count": 29,
   "id": "e7f3f054",
   "metadata": {},
   "outputs": [],
   "source": [
    "# Example documents (replace with real ones and correct labels)\n",
    "docs = [\n",
    "    (\"Patent discusses OTA update mechanism in vehicles\", 1),\n",
    "    (\"A new type of hydraulic gear\", 0),\n",
    "    (\"Firmware download system using WiFi in vehicles\", 1),\n",
    "    (\"Mechanical valve design\", 0),\n",
    "    (\"Vehicle-to-cloud update system for ECUs\", 1),\n",
    "    (\"Disc brake improvement\", 0)\n",
    "]\n",
    "\n",
    "df = pd.DataFrame(docs, columns=[\"text\", \"label\"])\n",
    "train_texts, test_texts, train_labels, test_labels = train_test_split(df['text'], df['label'], test_size=0.2)\n",
    "train_ds = Dataset.from_pandas(pd.DataFrame({'text': train_texts, 'label': train_labels}))\n",
    "test_ds = Dataset.from_pandas(pd.DataFrame({'text': test_texts, 'label': test_labels}))\n"
   ]
  },
  {
   "cell_type": "markdown",
   "id": "f9de5ccf",
   "metadata": {},
   "source": [
    "Step 5: Tokenization"
   ]
  },
  {
   "cell_type": "code",
   "execution_count": 30,
   "id": "93b1cd56",
   "metadata": {},
   "outputs": [
    {
     "name": "stderr",
     "output_type": "stream",
     "text": [
      "Map: 100%|██████████| 4/4 [00:00<?, ? examples/s]\n",
      "Map: 100%|██████████| 2/2 [00:00<?, ? examples/s]\n"
     ]
    }
   ],
   "source": [
    "tokenizer = DistilBertTokenizerFast.from_pretrained('distilbert-base-uncased')\n",
    "\n",
    "def tokenize(batch):\n",
    "    return tokenizer(batch['text'], padding=True, truncation=True)\n",
    "\n",
    "train_ds = train_ds.map(tokenize, batched=True)\n",
    "test_ds = test_ds.map(tokenize, batched=True)\n"
   ]
  },
  {
   "cell_type": "markdown",
   "id": "78a9a358",
   "metadata": {},
   "source": [
    "Step 6: Load Model & Fine-Tune"
   ]
  },
  {
   "cell_type": "code",
   "execution_count": 31,
   "id": "8c5df15f",
   "metadata": {},
   "outputs": [
    {
     "name": "stderr",
     "output_type": "stream",
     "text": [
      "Some weights of DistilBertForSequenceClassification were not initialized from the model checkpoint at distilbert-base-uncased and are newly initialized: ['classifier.bias', 'classifier.weight', 'pre_classifier.bias', 'pre_classifier.weight']\n",
      "You should probably TRAIN this model on a down-stream task to be able to use it for predictions and inference.\n",
      "C:\\Users\\ITinframanage\\AppData\\Local\\Packages\\PythonSoftwareFoundation.Python.3.11_qbz5n2kfra8p0\\LocalCache\\local-packages\\Python311\\site-packages\\transformers\\training_args.py:1568: FutureWarning: `evaluation_strategy` is deprecated and will be removed in version 4.46 of 🤗 Transformers. Use `eval_strategy` instead\n",
      "  warnings.warn(\n",
      "C:\\Users\\ITinframanage\\AppData\\Local\\Temp\\ipykernel_7264\\995562073.py:13: FutureWarning: `tokenizer` is deprecated and will be removed in version 5.0.0 for `Trainer.__init__`. Use `processing_class` instead.\n",
      "  trainer = Trainer(\n",
      "                                              \n",
      " 20%|██        | 2/10 [00:01<00:06,  1.29it/s]"
     ]
    },
    {
     "name": "stdout",
     "output_type": "stream",
     "text": [
      "{'eval_loss': 0.6954444646835327, 'eval_runtime': 0.0519, 'eval_samples_per_second': 38.509, 'eval_steps_per_second': 19.255, 'epoch': 1.0}\n"
     ]
    },
    {
     "name": "stderr",
     "output_type": "stream",
     "text": [
      "                                              \n",
      " 40%|████      | 4/10 [00:03<00:04,  1.31it/s]"
     ]
    },
    {
     "name": "stdout",
     "output_type": "stream",
     "text": [
      "{'eval_loss': 0.6784228682518005, 'eval_runtime': 0.0413, 'eval_samples_per_second': 48.452, 'eval_steps_per_second': 24.226, 'epoch': 2.0}\n"
     ]
    },
    {
     "name": "stderr",
     "output_type": "stream",
     "text": [
      "                                              \n",
      " 60%|██████    | 6/10 [00:04<00:02,  1.37it/s]"
     ]
    },
    {
     "name": "stdout",
     "output_type": "stream",
     "text": [
      "{'eval_loss': 0.645668625831604, 'eval_runtime': 0.0404, 'eval_samples_per_second': 49.512, 'eval_steps_per_second': 24.756, 'epoch': 3.0}\n"
     ]
    },
    {
     "name": "stderr",
     "output_type": "stream",
     "text": [
      "                                              \n",
      " 80%|████████  | 8/10 [00:05<00:01,  1.45it/s]"
     ]
    },
    {
     "name": "stdout",
     "output_type": "stream",
     "text": [
      "{'eval_loss': 0.6249417066574097, 'eval_runtime': 0.0332, 'eval_samples_per_second': 60.192, 'eval_steps_per_second': 30.096, 'epoch': 4.0}\n"
     ]
    },
    {
     "name": "stderr",
     "output_type": "stream",
     "text": [
      "100%|██████████| 10/10 [00:07<00:00,  1.58it/s]"
     ]
    },
    {
     "name": "stdout",
     "output_type": "stream",
     "text": [
      "{'loss': 0.5791, 'grad_norm': 7.236082553863525, 'learning_rate': 0.0, 'epoch': 5.0}\n"
     ]
    },
    {
     "name": "stderr",
     "output_type": "stream",
     "text": [
      "                                               \n",
      "100%|██████████| 10/10 [00:08<00:00,  1.24it/s]"
     ]
    },
    {
     "name": "stdout",
     "output_type": "stream",
     "text": [
      "{'eval_loss': 0.6199725270271301, 'eval_runtime': 0.0367, 'eval_samples_per_second': 54.467, 'eval_steps_per_second': 27.234, 'epoch': 5.0}\n",
      "{'train_runtime': 8.0613, 'train_samples_per_second': 2.481, 'train_steps_per_second': 1.241, 'train_loss': 0.5791090488433838, 'epoch': 5.0}\n"
     ]
    },
    {
     "name": "stderr",
     "output_type": "stream",
     "text": [
      "\n"
     ]
    },
    {
     "data": {
      "text/plain": [
       "TrainOutput(global_step=10, training_loss=0.5791090488433838, metrics={'train_runtime': 8.0613, 'train_samples_per_second': 2.481, 'train_steps_per_second': 1.241, 'total_flos': 62094093120.0, 'train_loss': 0.5791090488433838, 'epoch': 5.0})"
      ]
     },
     "execution_count": 31,
     "metadata": {},
     "output_type": "execute_result"
    }
   ],
   "source": [
    "model = DistilBertForSequenceClassification.from_pretrained(\"distilbert-base-uncased\", num_labels=2)\n",
    "\n",
    "training_args = TrainingArguments(\n",
    "    output_dir=\"./bert_results\",\n",
    "    num_train_epochs=5,\n",
    "    per_device_train_batch_size=2,\n",
    "    per_device_eval_batch_size=2,\n",
    "    evaluation_strategy=\"epoch\",\n",
    "    logging_dir='./logs',\n",
    "    logging_steps=10,\n",
    ")\n",
    "\n",
    "trainer = Trainer(\n",
    "    model=model,\n",
    "    args=training_args,\n",
    "    train_dataset=train_ds,\n",
    "    eval_dataset=test_ds,\n",
    "    tokenizer=tokenizer\n",
    ")\n",
    "\n",
    "trainer.train()\n"
   ]
  },
  {
   "cell_type": "code",
   "execution_count": 32,
   "id": "4575e218",
   "metadata": {},
   "outputs": [],
   "source": [
    "# Save the fine-tuned model\n",
    "trainer.save_model(\"./bert_results\")"
   ]
  },
  {
   "cell_type": "markdown",
   "id": "1d6a7c36",
   "metadata": {},
   "source": [
    " Step 7: Classify Your PDF Documents"
   ]
  },
  {
   "cell_type": "code",
   "execution_count": 33,
   "id": "ef66be38",
   "metadata": {},
   "outputs": [],
   "source": [
    "def classify_pdf_file(path):\n",
    "    text = extract_text_from_pdf(path)\n",
    "    if not text:\n",
    "        return \"Error\"\n",
    "    inputs = tokenizer(text, return_tensors=\"pt\", truncation=True, padding=True, max_length=512)\n",
    "    with torch.no_grad():\n",
    "        outputs = model(**inputs)\n",
    "        prediction = torch.argmax(outputs.logits, dim=1).item()\n",
    "    return \"Relevant\" if prediction == 1 else \"Non-Relevant\"\n"
   ]
  },
  {
   "cell_type": "markdown",
   "id": "01f23615",
   "metadata": {},
   "source": [
    "Step 8: Batch Classify Your Folder"
   ]
  },
  {
   "cell_type": "code",
   "execution_count": 34,
   "id": "0f248b25",
   "metadata": {},
   "outputs": [
    {
     "name": "stderr",
     "output_type": "stream",
     "text": [
      "100%|██████████| 6/6 [00:09<00:00,  1.51s/it]"
     ]
    },
    {
     "name": "stdout",
     "output_type": "stream",
     "text": [
      "US10220899_TW.pdf: Relevant\n",
      "US11034404_TW.pdf: Relevant\n",
      "US20220187870A1_NTW.pdf: Relevant\n",
      "US8100214_TW.pdf: Relevant\n",
      "US9335924_NTW.pdf: Relevant\n",
      "USD748738_TW.pdf: Relevant\n"
     ]
    },
    {
     "name": "stderr",
     "output_type": "stream",
     "text": [
      "\n"
     ]
    }
   ],
   "source": [
    "PDF_FOLDER = \"IP_Documents\"\n",
    "results = []\n",
    "\n",
    "for filename in tqdm(os.listdir(PDF_FOLDER)):\n",
    "    if filename.lower().endswith(\".pdf\"):\n",
    "        path = os.path.join(PDF_FOLDER, filename)\n",
    "        label = classify_pdf_file(path)\n",
    "        results.append((filename, label))\n",
    "\n",
    "# Print or save\n",
    "for f, l in results:\n",
    "    print(f\"{f}: {l}\")\n",
    "\n",
    "# Save to CSV\n",
    "pd.DataFrame(results, columns=[\"Filename\", \"Classification\"]).to_csv(\"output_classified_bert.csv\", index=False)\n"
   ]
  },
  {
   "cell_type": "code",
   "execution_count": 35,
   "id": "ae3180a8",
   "metadata": {},
   "outputs": [],
   "source": [
    "############################################################################"
   ]
  },
  {
   "cell_type": "markdown",
   "id": "f44e2e9d",
   "metadata": {},
   "source": [
    "✅ Hybrid Classifier Architecture :\n",
    "🔍 Keyword Rules + 🧠 BERT Classifier\n",
    "\n",
    "\n",
    "Keywords to Detect OTA Relevance (examples)"
   ]
  },
  {
   "cell_type": "code",
   "execution_count": 36,
   "id": "fe2fea24",
   "metadata": {},
   "outputs": [],
   "source": [
    "KEYWORDS = [\n",
    "    \"over the air\", \"ota update\", \"firmware update\", \"ecu\", \"telematics\",\n",
    "    \"software update\", \"remote update\", \"cloud update\", \"v2x\", \"vehicle communication\",\n",
    "    \"can bus\", \"ota system\", \"connected vehicle\", \"wireless update\"\n",
    "]\n"
   ]
  },
  {
   "cell_type": "markdown",
   "id": "6281cd28",
   "metadata": {},
   "source": [
    "🔧 Step 1: Utility Functions"
   ]
  },
  {
   "cell_type": "code",
   "execution_count": 37,
   "id": "17b5b6a0",
   "metadata": {},
   "outputs": [],
   "source": [
    "import re\n",
    "\n",
    "# Simple keyword rule matcher\n",
    "def keyword_rule_match(text):\n",
    "    text_lower = text.lower()\n",
    "    for kw in KEYWORDS:\n",
    "        if kw in text_lower:\n",
    "            return True\n",
    "    return False\n"
   ]
  },
  {
   "cell_type": "markdown",
   "id": "fafa791b",
   "metadata": {},
   "source": [
    "🔧 Step 2: Load BERT Model & Tokenizer"
   ]
  },
  {
   "cell_type": "code",
   "execution_count": 38,
   "id": "2441ee57",
   "metadata": {},
   "outputs": [],
   "source": [
    "from transformers import DistilBertTokenizerFast, DistilBertForSequenceClassification\n",
    "import torch\n",
    "\n",
    "# Load from fine-tuned checkpoint if available\n",
    "model_path = \"./bert_results\"  # Replace if different\n",
    "model = DistilBertForSequenceClassification.from_pretrained(model_path)\n",
    "tokenizer = DistilBertTokenizerFast.from_pretrained(\"distilbert-base-uncased\")\n",
    "\n",
    "def classify_with_bert(text):\n",
    "    inputs = tokenizer(text, return_tensors=\"pt\", truncation=True, padding=True, max_length=512)\n",
    "    with torch.no_grad():\n",
    "        outputs = model(**inputs)\n",
    "        prediction = torch.argmax(outputs.logits, dim=1).item()\n",
    "    return prediction  # 1: Relevant, 0: Non-Relevant\n"
   ]
  },
  {
   "cell_type": "markdown",
   "id": "07b3eb1c",
   "metadata": {},
   "source": [
    "🔧 Step 3: Hybrid Classification Function"
   ]
  },
  {
   "cell_type": "code",
   "execution_count": 39,
   "id": "4ee49aa2",
   "metadata": {},
   "outputs": [],
   "source": [
    "def hybrid_classify_pdf(path):\n",
    "    text = extract_text_from_pdf(path)\n",
    "    if not text:\n",
    "        return \"Error\"\n",
    "\n",
    "    # Rule-based shortcut\n",
    "    if keyword_rule_match(text):\n",
    "        return \"Relevant (Rule)\"\n",
    "\n",
    "    # Otherwise use BERT\n",
    "    prediction = classify_with_bert(text)\n",
    "    return \"Relevant (BERT)\" if prediction == 1 else \"Non-Relevant\"\n"
   ]
  },
  {
   "cell_type": "markdown",
   "id": "70d42742",
   "metadata": {},
   "source": [
    "🔧 Step 4: Batch Run Across Folder"
   ]
  },
  {
   "cell_type": "code",
   "execution_count": null,
   "id": "697761bc",
   "metadata": {},
   "outputs": [
    {
     "name": "stderr",
     "output_type": "stream",
     "text": [
      "100%|██████████| 6/6 [00:09<00:00,  1.51s/it]"
     ]
    },
    {
     "name": "stdout",
     "output_type": "stream",
     "text": [
      "                  Filename   Classification\n",
      "0        US10220899_TW.pdf  Relevant (BERT)\n",
      "1        US11034404_TW.pdf  Relevant (BERT)\n",
      "2  US20220187870A1_NTW.pdf  Relevant (BERT)\n",
      "3         US8100214_TW.pdf  Relevant (BERT)\n",
      "4        US9335924_NTW.pdf  Relevant (BERT)\n",
      "5         USD748738_TW.pdf  Relevant (BERT)\n"
     ]
    },
    {
     "name": "stderr",
     "output_type": "stream",
     "text": [
      "\n"
     ]
    },
    {
     "ename": "",
     "evalue": "",
     "output_type": "error",
     "traceback": [
      "\u001b[1;31mThe Kernel crashed while executing code in the current cell or a previous cell. \n",
      "\u001b[1;31mPlease review the code in the cell(s) to identify a possible cause of the failure. \n",
      "\u001b[1;31mClick <a href='https://aka.ms/vscodeJupyterKernelCrash'>here</a> for more info. \n",
      "\u001b[1;31mView Jupyter <a href='command:jupyter.viewOutput'>log</a> for further details."
     ]
    }
   ],
   "source": [
    "from tqdm import tqdm\n",
    "import os\n",
    "import pandas as pd\n",
    "\n",
    "PDF_FOLDER = \"IP_Documents\"\n",
    "results = []\n",
    "\n",
    "for filename in tqdm(os.listdir(PDF_FOLDER)):\n",
    "    if filename.lower().endswith('.pdf'):\n",
    "        path = os.path.join(PDF_FOLDER, filename)\n",
    "        label = hybrid_classify_pdf(path)\n",
    "        results.append((filename, label))\n",
    "\n",
    "# Save results\n",
    "df = pd.DataFrame(results, columns=[\"Filename\", \"Classification\"])\n",
    "df.to_csv(\"hybrid_classification_output.csv\", index=False)\n",
    "print(df)\n"
   ]
  }
 ],
 "metadata": {
  "kernelspec": {
   "display_name": "Python 3",
   "language": "python",
   "name": "python3"
  },
  "language_info": {
   "name": "python",
   "version": "3.11.9"
  }
 },
 "nbformat": 4,
 "nbformat_minor": 5
}
