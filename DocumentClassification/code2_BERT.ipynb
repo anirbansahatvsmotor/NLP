{
 "cells": [
  {
   "cell_type": "code",
   "execution_count": null,
   "id": "04b7600e",
   "metadata": {},
   "outputs": [],
   "source": []
  },
  {
   "cell_type": "code",
   "execution_count": 1,
   "id": "a494e485",
   "metadata": {},
   "outputs": [
    {
     "name": "stderr",
     "output_type": "stream",
     "text": [
      "C:\\Users\\ITinframanage\\AppData\\Local\\Packages\\PythonSoftwareFoundation.Python.3.11_qbz5n2kfra8p0\\LocalCache\\local-packages\\Python311\\site-packages\\tqdm\\auto.py:21: TqdmWarning: IProgress not found. Please update jupyter and ipywidgets. See https://ipywidgets.readthedocs.io/en/stable/user_install.html\n",
      "  from .autonotebook import tqdm as notebook_tqdm\n",
      "C:\\Users\\ITinframanage\\AppData\\Local\\Packages\\PythonSoftwareFoundation.Python.3.11_qbz5n2kfra8p0\\LocalCache\\local-packages\\Python311\\site-packages\\torch\\utils\\_pytree.py:185: FutureWarning: optree is installed but the version is too old to support PyTorch Dynamo in C++ pytree. C++ pytree support is disabled. Please consider upgrading optree using `python3 -m pip install --upgrade 'optree>=0.13.0'`.\n",
      "  warnings.warn(\n"
     ]
    },
    {
     "name": "stdout",
     "output_type": "stream",
     "text": [
      "WARNING:tensorflow:From C:\\Users\\ITinframanage\\AppData\\Local\\Packages\\PythonSoftwareFoundation.Python.3.11_qbz5n2kfra8p0\\LocalCache\\local-packages\\Python311\\site-packages\\tf_keras\\src\\losses.py:2976: The name tf.losses.sparse_softmax_cross_entropy is deprecated. Please use tf.compat.v1.losses.sparse_softmax_cross_entropy instead.\n",
      "\n"
     ]
    }
   ],
   "source": [
    "import os\n",
    "import PyPDF2\n",
    "from transformers import DistilBertTokenizerFast, DistilBertForSequenceClassification, Trainer, TrainingArguments\n",
    "from datasets import Dataset\n",
    "from sklearn.model_selection import train_test_split\n",
    "import pandas as pd\n",
    "import torch\n",
    "from tqdm import tqdm\n"
   ]
  },
  {
   "cell_type": "markdown",
   "id": "0de3d9ec",
   "metadata": {},
   "source": [
    "Step 1: Extract Text from PDFs"
   ]
  },
  {
   "cell_type": "code",
   "execution_count": 3,
   "id": "ea685321",
   "metadata": {},
   "outputs": [],
   "source": [
    "def extract_text_from_pdf(pdf_path):\n",
    "    try:\n",
    "        with open(pdf_path, 'rb') as f:\n",
    "            reader = PyPDF2.PdfReader(f)\n",
    "            text = \"\"\n",
    "            for page in reader.pages:\n",
    "                text += page.extract_text() or \"\"\n",
    "            return text[:3000]  # Limit to fit within BERT input\n",
    "    except Exception as e:\n",
    "        print(f\"Error reading {pdf_path}: {e}\")\n",
    "        return \"\"\n"
   ]
  },
  {
   "cell_type": "markdown",
   "id": "dff2ab35",
   "metadata": {},
   "source": [
    "Step 2: Create Sample Dataset (for training)"
   ]
  },
  {
   "cell_type": "code",
   "execution_count": 4,
   "id": "1b5cf35a",
   "metadata": {},
   "outputs": [],
   "source": [
    "# Example documents (replace with real ones and correct labels)\n",
    "docs = [\n",
    "    (\"Patent discusses OTA update mechanism in vehicles\", 1),\n",
    "    (\"A new type of hydraulic gear\", 0),\n",
    "    (\"Firmware download system using WiFi in vehicles\", 1),\n",
    "    (\"Mechanical valve design\", 0),\n",
    "    (\"Vehicle-to-cloud update system for ECUs\", 1),\n",
    "    (\"Disc brake improvement\", 0)\n",
    "]\n",
    "\n",
    "df = pd.DataFrame(docs, columns=[\"text\", \"label\"])\n",
    "train_texts, test_texts, train_labels, test_labels = train_test_split(df['text'], df['label'], test_size=0.2)\n",
    "train_ds = Dataset.from_pandas(pd.DataFrame({'text': train_texts, 'label': train_labels}))\n",
    "test_ds = Dataset.from_pandas(pd.DataFrame({'text': test_texts, 'label': test_labels}))\n"
   ]
  },
  {
   "cell_type": "markdown",
   "id": "da101c22",
   "metadata": {},
   "source": [
    "Step 3: Tokenization"
   ]
  },
  {
   "cell_type": "code",
   "execution_count": 5,
   "id": "a7017dd4",
   "metadata": {},
   "outputs": [
    {
     "name": "stderr",
     "output_type": "stream",
     "text": [
      "Map: 100%|██████████| 4/4 [00:00<?, ? examples/s]\n",
      "Map: 100%|██████████| 2/2 [00:00<00:00, 299.19 examples/s]\n"
     ]
    }
   ],
   "source": [
    "tokenizer = DistilBertTokenizerFast.from_pretrained('distilbert-base-uncased')\n",
    "\n",
    "def tokenize(batch):\n",
    "    return tokenizer(batch['text'], padding=True, truncation=True)\n",
    "\n",
    "train_ds = train_ds.map(tokenize, batched=True)\n",
    "test_ds = test_ds.map(tokenize, batched=True)\n"
   ]
  },
  {
   "cell_type": "markdown",
   "id": "7d145286",
   "metadata": {},
   "source": [
    " Step 4: Load Model & Fine-Tune"
   ]
  },
  {
   "cell_type": "code",
   "execution_count": 11,
   "id": "a35073d2",
   "metadata": {},
   "outputs": [
    {
     "name": "stderr",
     "output_type": "stream",
     "text": [
      "Some weights of DistilBertForSequenceClassification were not initialized from the model checkpoint at distilbert-base-uncased and are newly initialized: ['classifier.bias', 'classifier.weight', 'pre_classifier.bias', 'pre_classifier.weight']\n",
      "You should probably TRAIN this model on a down-stream task to be able to use it for predictions and inference.\n",
      "C:\\Users\\ITinframanage\\AppData\\Local\\Packages\\PythonSoftwareFoundation.Python.3.11_qbz5n2kfra8p0\\LocalCache\\local-packages\\Python311\\site-packages\\transformers\\training_args.py:1568: FutureWarning: `evaluation_strategy` is deprecated and will be removed in version 4.46 of 🤗 Transformers. Use `eval_strategy` instead\n",
      "  warnings.warn(\n",
      "C:\\Users\\ITinframanage\\AppData\\Local\\Temp\\ipykernel_7060\\995562073.py:13: FutureWarning: `tokenizer` is deprecated and will be removed in version 5.0.0 for `Trainer.__init__`. Use `processing_class` instead.\n",
      "  trainer = Trainer(\n",
      " 20%|██        | 2/10 [00:01<00:05,  1.43it/s]\n",
      " 20%|██        | 2/10 [00:01<00:05,  1.43it/s]"
     ]
    },
    {
     "name": "stdout",
     "output_type": "stream",
     "text": [
      "{'eval_loss': 0.7609473466873169, 'eval_runtime': 0.0365, 'eval_samples_per_second': 54.725, 'eval_steps_per_second': 27.362, 'epoch': 1.0}\n"
     ]
    },
    {
     "name": "stderr",
     "output_type": "stream",
     "text": [
      " 40%|████      | 4/10 [00:02<00:03,  1.60it/s]\n",
      " 40%|████      | 4/10 [00:02<00:03,  1.60it/s]"
     ]
    },
    {
     "name": "stdout",
     "output_type": "stream",
     "text": [
      "{'eval_loss': 0.812250018119812, 'eval_runtime': 0.0419, 'eval_samples_per_second': 47.76, 'eval_steps_per_second': 23.88, 'epoch': 2.0}\n"
     ]
    },
    {
     "name": "stderr",
     "output_type": "stream",
     "text": [
      " 60%|██████    | 6/10 [00:03<00:02,  1.64it/s]\n",
      " 60%|██████    | 6/10 [00:03<00:02,  1.64it/s]"
     ]
    },
    {
     "name": "stdout",
     "output_type": "stream",
     "text": [
      "{'eval_loss': 0.8276886940002441, 'eval_runtime': 0.0368, 'eval_samples_per_second': 54.371, 'eval_steps_per_second': 27.185, 'epoch': 3.0}\n"
     ]
    },
    {
     "name": "stderr",
     "output_type": "stream",
     "text": [
      " 80%|████████  | 8/10 [00:04<00:01,  1.74it/s]\n",
      " 80%|████████  | 8/10 [00:04<00:01,  1.74it/s]"
     ]
    },
    {
     "name": "stdout",
     "output_type": "stream",
     "text": [
      "{'eval_loss': 0.8414663076400757, 'eval_runtime': 0.0434, 'eval_samples_per_second': 46.101, 'eval_steps_per_second': 23.051, 'epoch': 4.0}\n"
     ]
    },
    {
     "name": "stderr",
     "output_type": "stream",
     "text": [
      "100%|██████████| 10/10 [00:06<00:00,  1.75it/s]"
     ]
    },
    {
     "name": "stdout",
     "output_type": "stream",
     "text": [
      "{'loss': 0.5828, 'grad_norm': 3.4380390644073486, 'learning_rate': 0.0, 'epoch': 5.0}\n"
     ]
    },
    {
     "name": "stderr",
     "output_type": "stream",
     "text": [
      "\n",
      "100%|██████████| 10/10 [00:08<00:00,  1.16it/s]"
     ]
    },
    {
     "name": "stdout",
     "output_type": "stream",
     "text": [
      "{'eval_loss': 0.8504704833030701, 'eval_runtime': 0.0472, 'eval_samples_per_second': 42.355, 'eval_steps_per_second': 21.177, 'epoch': 5.0}\n",
      "{'train_runtime': 8.6135, 'train_samples_per_second': 2.322, 'train_steps_per_second': 1.161, 'train_loss': 0.5827792167663575, 'epoch': 5.0}\n"
     ]
    },
    {
     "name": "stderr",
     "output_type": "stream",
     "text": [
      "\n"
     ]
    },
    {
     "data": {
      "text/plain": [
       "TrainOutput(global_step=10, training_loss=0.5827792167663575, metrics={'train_runtime': 8.6135, 'train_samples_per_second': 2.322, 'train_steps_per_second': 1.161, 'total_flos': 62094093120.0, 'train_loss': 0.5827792167663575, 'epoch': 5.0})"
      ]
     },
     "execution_count": 11,
     "metadata": {},
     "output_type": "execute_result"
    }
   ],
   "source": [
    "model = DistilBertForSequenceClassification.from_pretrained(\"distilbert-base-uncased\", num_labels=2)\n",
    "\n",
    "training_args = TrainingArguments(\n",
    "    output_dir=\"./bert_results\",\n",
    "    num_train_epochs=5,\n",
    "    per_device_train_batch_size=2,\n",
    "    per_device_eval_batch_size=2,\n",
    "    evaluation_strategy=\"epoch\",\n",
    "    logging_dir='./logs',\n",
    "    logging_steps=10,\n",
    ")\n",
    "\n",
    "trainer = Trainer(\n",
    "    model=model,\n",
    "    args=training_args,\n",
    "    train_dataset=train_ds,\n",
    "    eval_dataset=test_ds,\n",
    "    tokenizer=tokenizer\n",
    ")\n",
    "\n",
    "trainer.train()\n"
   ]
  },
  {
   "cell_type": "code",
   "execution_count": 12,
   "id": "76ff0b09",
   "metadata": {},
   "outputs": [],
   "source": [
    "# Save the fine-tuned model\n",
    "trainer.save_model(\"./bert_results\")"
   ]
  },
  {
   "cell_type": "markdown",
   "id": "38bf72f5",
   "metadata": {},
   "source": [
    "Step 5: Classify Your PDF Documents"
   ]
  },
  {
   "cell_type": "code",
   "execution_count": 14,
   "id": "ec8157b0",
   "metadata": {},
   "outputs": [],
   "source": [
    "def classify_pdf_file(path):\n",
    "    text = extract_text_from_pdf(path)\n",
    "    if not text:\n",
    "        return \"Error\"\n",
    "    inputs = tokenizer(text, return_tensors=\"pt\", truncation=True, padding=True, max_length=512)\n",
    "    with torch.no_grad():\n",
    "        outputs = model(**inputs)\n",
    "        prediction = torch.argmax(outputs.logits, dim=1).item()\n",
    "    return \"Relevant\" if prediction == 1 else \"Non-Relevant\"\n"
   ]
  },
  {
   "cell_type": "markdown",
   "id": "6a609138",
   "metadata": {},
   "source": [
    "Step 6: Batch Classify Your Folder"
   ]
  },
  {
   "cell_type": "code",
   "execution_count": null,
   "id": "8211748e",
   "metadata": {},
   "outputs": [
    {
     "name": "stderr",
     "output_type": "stream",
     "text": [
      "100%|██████████| 6/6 [00:04<00:00,  1.43it/s]"
     ]
    },
    {
     "name": "stdout",
     "output_type": "stream",
     "text": [
      "US10220899_TW.pdf: Relevant\n",
      "US11034404_TW.pdf: Relevant\n",
      "US20220187870A1_NTW.pdf: Relevant\n",
      "US8100214_TW.pdf: Relevant\n",
      "US9335924_NTW.pdf: Relevant\n",
      "USD748738_TW.pdf: Relevant\n"
     ]
    },
    {
     "name": "stderr",
     "output_type": "stream",
     "text": [
      "\n"
     ]
    },
    {
     "ename": "",
     "evalue": "",
     "output_type": "error",
     "traceback": [
      "\u001b[1;31mThe Kernel crashed while executing code in the current cell or a previous cell. \n",
      "\u001b[1;31mPlease review the code in the cell(s) to identify a possible cause of the failure. \n",
      "\u001b[1;31mClick <a href='https://aka.ms/vscodeJupyterKernelCrash'>here</a> for more info. \n",
      "\u001b[1;31mView Jupyter <a href='command:jupyter.viewOutput'>log</a> for further details."
     ]
    }
   ],
   "source": [
    "PDF_FOLDER = \"./IP_Documents\"\n",
    "results = []\n",
    "\n",
    "for filename in tqdm(os.listdir(PDF_FOLDER)):\n",
    "    if filename.lower().endswith(\".pdf\"):\n",
    "        path = os.path.join(PDF_FOLDER, filename)\n",
    "        label = classify_pdf_file(path)\n",
    "        results.append((filename, label))\n",
    "\n",
    "# Print or save\n",
    "for f, l in results:\n",
    "    print(f\"{f}: {l}\")\n",
    "\n",
    "# Save to CSV\n",
    "pd.DataFrame(results, columns=[\"Filename\", \"Classification\"]).to_csv(\"output_classified_bert.csv\", index=False)\n"
   ]
  }
 ],
 "metadata": {
  "kernelspec": {
   "display_name": "Python 3",
   "language": "python",
   "name": "python3"
  },
  "language_info": {
   "codemirror_mode": {
    "name": "ipython",
    "version": 3
   },
   "file_extension": ".py",
   "mimetype": "text/x-python",
   "name": "python",
   "nbconvert_exporter": "python",
   "pygments_lexer": "ipython3",
   "version": "3.11.9"
  }
 },
 "nbformat": 4,
 "nbformat_minor": 5
}
