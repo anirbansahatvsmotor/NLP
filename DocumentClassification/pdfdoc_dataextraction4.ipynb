{
 "cells": [
  {
   "cell_type": "code",
   "execution_count": 43,
   "id": "8a951554",
   "metadata": {},
   "outputs": [],
   "source": [
    "from pdfminer.high_level import extract_text\n",
    "import os\n",
    "import pandas as pd\n",
    "\n",
    "#pdf_path = \"./pdf_folder/IN479454(B)_NonRelavant.pdf\"\n",
    "pdf_path = \"./pdf_folder/IN202311060784(A)_Relavant.pdf\"\n",
    "file_name = os.path.basename(pdf_path)  # Get just the file name\n",
    "full_text = extract_text(pdf_path)\n",
    "\n",
    "# Optional: replace line breaks with spaces to normalize\n",
    "full_text = full_text.replace(\"\\n\", \" \")\n"
   ]
  },
  {
   "cell_type": "markdown",
   "id": "4cebc469",
   "metadata": {},
   "source": [
    "✅ 2) Fuzzy matching the start of claims"
   ]
  },
  {
   "cell_type": "code",
   "execution_count": 5,
   "id": "65d7730e",
   "metadata": {},
   "outputs": [],
   "source": [
    "# import re\n",
    "\n",
    "# # Look for common variations of the claims section heading\n",
    "# #match = re.search(r'(I\\s*/\\s*We\\s+Claim\\s*:.*)', full_text, re.IGNORECASE | re.DOTALL)\n",
    "# #match = re.search(r'(I\\s*/\\s*We\\s+Claim\\s*:.*)', full_text, re.IGNORECASE | re.DOTALL)\n",
    "# match = re.search(\n",
    "#                 r'('\n",
    "#                 r'(?:I\\s*/\\s*)?We\\s+Claim\\s*:|'            # I/We Claim:\n",
    "#                 r'I\\s+Claim\\s*:|'                         # I Claim:\n",
    "#                 r'We\\s+Claim\\s*:|'                        # We Claim:\n",
    "#                 r'Claims\\s*:|'                            # Claims:\n",
    "#                 r'What\\s+(?:is\\s+)?claimed\\s+is\\s*:|'     # What is claimed is:\n",
    "#                 r'What\\s+we\\s+claim\\s+is\\s*:'\n",
    "#                 r')\\s*(.*)',                              # capture everything after the heading\n",
    "#                 full_text,\n",
    "#                 re.IGNORECASE | re.DOTALL\n",
    "#             )\n",
    "# if match:\n",
    "#     claims_text = match.group(2).strip()\n",
    "# else:\n",
    "#     print(\"⚠️ Claims section not found.\")\n",
    "#     claims_text = None\n",
    "\n",
    "# # Assuming claims_text is your variable with extra spaces\n",
    "# claims_text = re.sub(r'\\s+', ' ', claims_text).strip()\n",
    "# claims_text"
   ]
  },
  {
   "cell_type": "code",
   "execution_count": 54,
   "id": "c9e3eb5c",
   "metadata": {},
   "outputs": [
    {
     "data": {
      "text/plain": [
       "'1. A method for managing vehicle to vehicle communication, comprising: providing a mobile application in a computing device present with a user; providing permissions to the mobile application; detecting fluctuation in motion a vehicle using a gyroscope; activating crash detection if major fluctuations are detected; measuring decrease in speed of the vehicle if the minor detection is detected.'"
      ]
     },
     "execution_count": 54,
     "metadata": {},
     "output_type": "execute_result"
    }
   ],
   "source": [
    "import re\n",
    "\n",
    "# Step 1: Extract the full claims section using flexible headers\n",
    "match = re.search(\n",
    "    r'('\n",
    "    r'(?:I\\s*/\\s*)?We\\s+Claim\\s*:|'            # I/We Claim:\n",
    "    r'I\\s+Claim\\s*:|'                         # I Claim:\n",
    "    r'We\\s+Claim\\s*:|'                        # We Claim:\n",
    "    r'Claims\\s*:|'                            # Claims:\n",
    "    r'What\\s+(?:is\\s+)?claimed\\s+is\\s*:|'     # What is claimed is:\n",
    "    r'What\\s+we\\s+claim\\s+is\\s*:'\n",
    "    r')\\s*(.*)',                              # Capture everything after the heading\n",
    "    full_text,\n",
    "    re.IGNORECASE | re.DOTALL\n",
    ")\n",
    "\n",
    "if match:\n",
    "    # Clean and extract the claims section\n",
    "    claims_text = re.sub(r'\\s+', ' ', match.group(2)).strip()\n",
    "\n",
    "    # Step 2: Extract only the first claim (from \"1.\" to \"2.\")\n",
    "    claim_match = re.search(r'1\\.\\s(.*?)(?=\\s*\\d+\\.\\s)', claims_text)\n",
    "    if claim_match:\n",
    "        first_claim = \"1. \" + claim_match.group(1).strip()\n",
    "    else:\n",
    "        print(\"⚠️ Could not isolate claim 1.\")\n",
    "        first_claim = None\n",
    "else:\n",
    "    print(\"⚠️ Claims section not found.\")\n",
    "    first_claim = None\n",
    "\n",
    "# Output\n",
    "first_claim\n",
    "claims_text=first_claim\n",
    "claims_text\n"
   ]
  },
  {
   "cell_type": "markdown",
   "id": "e4871be2",
   "metadata": {},
   "source": [
    "✅ 3) Summarize claims using a free LLM"
   ]
  },
  {
   "cell_type": "code",
   "execution_count": 51,
   "id": "f917f6f7",
   "metadata": {},
   "outputs": [],
   "source": [
    "# from transformers import pipeline\n",
    "\n",
    "# if claims_text:\n",
    "#     summarizer = pipeline(\"summarization\", model=\"facebook/bart-large-cnn\")\n",
    "#     summary = summarizer(claims_text[:512], max_length=512, min_length=20, do_sample=False)\n",
    "#     # print(\"\\n📝 Summary of Claims:\\n\")\n",
    "#     # print(summary[0]['summary_text'])\n",
    "#     claims_text_fb=summary[0]['summary_text']\n",
    "\n",
    "#     summarizer = pipeline(\"summarization\", model=\"google/pegasus-cnn_dailymail\")\n",
    "#     summary = summarizer(claims_text[:512], max_length=512, min_length=20, do_sample=False)\n",
    "#     # print(\"\\n📝 Summary of Claims:\\n\")\n",
    "#     # print(summary[0]['summary_text'])\n",
    "\n",
    "#     claims_text_google=summary[0]['summary_text']\n",
    "#     claims_text_google=claims_text_google.replace('<n>', '')\n",
    "\n",
    "#     print(claims_text_fb)\n",
    "#     print(claims_text_google)\n",
    "\n",
    "\n",
    "# # Create DataFrame with two columns: filename and text\n",
    "# df = pd.DataFrame({\n",
    "#     'file_name': [file_name],\n",
    "#     'claims_text_fb': [claims_text_fb],\n",
    "#     'claims_text_google': [claims_text_google]\n",
    "# })"
   ]
  },
  {
   "cell_type": "code",
   "execution_count": 53,
   "id": "afc31005",
   "metadata": {},
   "outputs": [],
   "source": [
    "# df"
   ]
  },
  {
   "cell_type": "code",
   "execution_count": 47,
   "id": "c125c923",
   "metadata": {},
   "outputs": [],
   "source": [
    "################################################################### LLM summarization########################"
   ]
  },
  {
   "cell_type": "code",
   "execution_count": 48,
   "id": "74643188",
   "metadata": {},
   "outputs": [
    {
     "name": "stdout",
     "output_type": "stream",
     "text": [
      "\n",
      "📝 Summary from llama3:\n",
      "\n",
      "Here's a summary of the text in plain language:\n",
      "\n",
      "This method helps manage communication between vehicles by using a smartphone app and sensors. The app is installed on a user's phone, which has permission to access certain features. The phone uses its gyroscope (a sensor that measures motion) to detect when a vehicle is moving or slowing down. If the app detects major changes in motion, it triggers a crash detection alert. If it detects smaller changes, such as a decrease in speed, it can measure and record this data too.\n"
     ]
    }
   ],
   "source": [
    "#Using llama3\n",
    "import requests\n",
    "\n",
    "prompt = \"Summarize this text in plain language in a single paragraph:\\n\\n\" + claims_text\n",
    "\n",
    "response = requests.post(\n",
    "    \"http://localhost:11434/api/generate\",\n",
    "    json={\"model\": \"llama3\", \"prompt\": prompt, \"stream\": False}\n",
    "    # ,timeout=120\n",
    ")\n",
    "result = response.json()\n",
    "print(\"\\n📝 Summary from llama3:\\n\")\n",
    "print(result.get(\"response\", \"[No response]\"))"
   ]
  },
  {
   "cell_type": "code",
   "execution_count": 25,
   "id": "d669e369",
   "metadata": {},
   "outputs": [],
   "source": [
    "# #Using gemma3\n",
    "# import requests\n",
    "\n",
    "# prompt = \"Summarize this text in plain language in a single paragraph:\\n\\n\" + cleaned_claims_text\n",
    "\n",
    "# response = requests.post(\n",
    "#     \"http://localhost:11434/api/generate\",\n",
    "#     json={\"model\": \"gemma3\", \"prompt\": prompt, \"stream\": False},\n",
    "#     timeout=120\n",
    "# )\n",
    "# result = response.json()\n",
    "# print(\"\\n📝 Summary from gemma3:\\n\")\n",
    "# print(result.get(\"response\", \"[No response]\"))\n"
   ]
  },
  {
   "cell_type": "code",
   "execution_count": 26,
   "id": "5010f5f0",
   "metadata": {},
   "outputs": [],
   "source": [
    "# #Using Misral\n",
    "# import requests\n",
    "\n",
    "# prompt = \"Summarize this text in plain language in a single paragraph:\\n\\n\" + claims_text\n",
    "\n",
    "# response = requests.post(\n",
    "#     \"http://localhost:11434/api/generate\",\n",
    "#     json={\"model\": \"mistral\", \"prompt\": prompt, \"stream\": False},\n",
    "#     timeout=120\n",
    "# )\n",
    "# result = response.json()\n",
    "# print(\"\\n📝 Summary from mistral:\\n\")\n",
    "# print(result.get(\"response\", \"[No response]\"))"
   ]
  },
  {
   "cell_type": "code",
   "execution_count": 49,
   "id": "91b25c7a",
   "metadata": {},
   "outputs": [
    {
     "data": {
      "text/plain": [
       "[{'label': 'LABEL_1', 'score': 0.5845538377761841}]"
      ]
     },
     "execution_count": 49,
     "metadata": {},
     "output_type": "execute_result"
    }
   ],
   "source": [
    "from transformers import pipeline\n",
    "\n",
    "classifier = pipeline(\"text-classification\", model=\"./bert-claims-fg\", tokenizer=\"./bert-claims-fg\")\n",
    "\n",
    "#Relavant\n",
    "#sample_text = \"The patent claims describe a vehicle management system and method that uses a server to communicate with a target vehicle and multiple other vehicles. Each vehicle has at least one sensor that detects the combustion state of fuel in the engine. The server stores a trained model related to engine control, which uses sensor data and gas station data (including location and fuel supply time period, but not fuel composition) to calculate a correction amount for the combustion state of the fuel. This correction amount is then transmitted to the target vehicle, which adjusts its fuel combustion accordingly. The trained model may also consider data related to the traveling position of the vehicles. The sensor data may include information about the engine's internal pressure, rotational speed, exhaust gas temperature, filter pressure difference, and nitrogen oxide concentration. The system also includes a vehicle capable of communicating with the server and adjusting its fuel combustion based on the received correction amount. The method involves calculating the correction amount for a target vehicle and correcting its fuel combustion state accordingly.\"\n",
    "sample_text=result.get(\"response\", \"[No response]\")\n",
    "classifier(sample_text)"
   ]
  },
  {
   "cell_type": "code",
   "execution_count": 50,
   "id": "b49b5b50",
   "metadata": {},
   "outputs": [
    {
     "data": {
      "text/plain": [
       "[{'label': 'LABEL_1', 'score': 0.7748509645462036}]"
      ]
     },
     "execution_count": 50,
     "metadata": {},
     "output_type": "execute_result"
    }
   ],
   "source": [
    "from transformers import pipeline\n",
    "\n",
    "classifier = pipeline(\"text-classification\", model=\"./bert-claims-fg2\", tokenizer=\"./bert-claims-fg2\")\n",
    "\n",
    "#Relavant\n",
    "#sample_text = \"The patent claims describe a vehicle management system and method that uses a server to communicate with a target vehicle and multiple other vehicles. Each vehicle has at least one sensor that detects the combustion state of fuel in the engine. The server stores a trained model related to engine control, which uses sensor data and gas station data (including location and fuel supply time period, but not fuel composition) to calculate a correction amount for the combustion state of the fuel. This correction amount is then transmitted to the target vehicle, which adjusts its fuel combustion accordingly. The trained model may also consider data related to the traveling position of the vehicles. The sensor data may include information about the engine's internal pressure, rotational speed, exhaust gas temperature, filter pressure difference, and nitrogen oxide concentration. The system also includes a vehicle capable of communicating with the server and adjusting its fuel combustion based on the received correction amount. The method involves calculating the correction amount for a target vehicle and correcting its fuel combustion state accordingly.\"\n",
    "#sample_text=claims_text[:512]\n",
    "sample_text=result.get(\"response\", \"[No response]\")\n",
    "classifier(sample_text)"
   ]
  },
  {
   "cell_type": "code",
   "execution_count": 50,
   "id": "90368871",
   "metadata": {},
   "outputs": [
    {
     "data": {
      "text/plain": [
       "'1.  A method for managing vehicle to vehicle communication, comprising:   providing a mobile application in a computing device present with   a user;   providing permissions to the mobile application;   detecting fluctuation in motion a vehicle using a gyroscope;   activating crash detection if major fluctuations are detected;   measuring decrease in speed of the vehicle if the minor detection is   detected. 2.  The method as claimed in claim 1, wherein if the major fluctuation is   detected, the method fur'"
      ]
     },
     "execution_count": 50,
     "metadata": {},
     "output_type": "execute_result"
    }
   ],
   "source": [
    "sample_text"
   ]
  }
 ],
 "metadata": {
  "kernelspec": {
   "display_name": "Python 3",
   "language": "python",
   "name": "python3"
  },
  "language_info": {
   "codemirror_mode": {
    "name": "ipython",
    "version": 3
   },
   "file_extension": ".py",
   "mimetype": "text/x-python",
   "name": "python",
   "nbconvert_exporter": "python",
   "pygments_lexer": "ipython3",
   "version": "3.11.9"
  }
 },
 "nbformat": 4,
 "nbformat_minor": 5
}
