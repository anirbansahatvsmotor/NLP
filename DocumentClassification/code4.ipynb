{
 "cells": [
  {
   "cell_type": "code",
   "execution_count": 1,
   "id": "1ca16130",
   "metadata": {},
   "outputs": [
    {
     "name": "stderr",
     "output_type": "stream",
     "text": [
      "C:\\Users\\ITinframanage\\AppData\\Local\\Packages\\PythonSoftwareFoundation.Python.3.11_qbz5n2kfra8p0\\LocalCache\\local-packages\\Python311\\site-packages\\torch\\utils\\_pytree.py:185: FutureWarning: optree is installed but the version is too old to support PyTorch Dynamo in C++ pytree. C++ pytree support is disabled. Please consider upgrading optree using `python3 -m pip install --upgrade 'optree>=0.13.0'`.\n",
      "  warnings.warn(\n",
      "C:\\Users\\ITinframanage\\AppData\\Local\\Packages\\PythonSoftwareFoundation.Python.3.11_qbz5n2kfra8p0\\LocalCache\\local-packages\\Python311\\site-packages\\tqdm\\auto.py:21: TqdmWarning: IProgress not found. Please update jupyter and ipywidgets. See https://ipywidgets.readthedocs.io/en/stable/user_install.html\n",
      "  from .autonotebook import tqdm as notebook_tqdm\n"
     ]
    },
    {
     "name": "stdout",
     "output_type": "stream",
     "text": [
      "WARNING:tensorflow:From C:\\Users\\ITinframanage\\AppData\\Local\\Packages\\PythonSoftwareFoundation.Python.3.11_qbz5n2kfra8p0\\LocalCache\\local-packages\\Python311\\site-packages\\tf_keras\\src\\losses.py:2976: The name tf.losses.sparse_softmax_cross_entropy is deprecated. Please use tf.compat.v1.losses.sparse_softmax_cross_entropy instead.\n",
      "\n"
     ]
    }
   ],
   "source": [
    "# 1. Imports\n",
    "import os\n",
    "import torch\n",
    "import pandas as pd\n",
    "import PyPDF2\n",
    "from tqdm import tqdm\n",
    "from transformers import BertTokenizerFast, BertForSequenceClassification, Trainer, TrainingArguments\n",
    "from datasets import Dataset\n",
    "from sklearn.model_selection import train_test_split\n"
   ]
  },
  {
   "cell_type": "code",
   "execution_count": 2,
   "id": "24c6ab76",
   "metadata": {},
   "outputs": [],
   "source": [
    "# 2. OTA keyword list for rule-based shortcut\n",
    "KEYWORDS = [\n",
    "    \"ota\", \"over the air\", \"firmware update\", \"software update\",\n",
    "    \"ecu\", \"electronic control unit\", \"connected vehicle\", \"v2x\",\n",
    "    \"telematics\", \"can bus\", \"wireless update\", \"remote update\", \"ota update\"\n",
    "]\n",
    "\n",
    "def keyword_match(text):\n",
    "    text = text.lower()\n",
    "    return any(keyword in text for keyword in KEYWORDS)\n"
   ]
  },
  {
   "cell_type": "code",
   "execution_count": 3,
   "id": "3d412fc8",
   "metadata": {},
   "outputs": [],
   "source": [
    "# 3. PDF Text Extraction\n",
    "def extract_text_from_pdf(pdf_path):\n",
    "    try:\n",
    "        with open(pdf_path, 'rb') as f:\n",
    "            reader = PyPDF2.PdfReader(f)\n",
    "            text = \"\"\n",
    "            for page in reader.pages:\n",
    "                page_text = page.extract_text()\n",
    "                if page_text:\n",
    "                    text += page_text\n",
    "            return text[:3000]  # truncate to 3000 chars for BERT input\n",
    "    except Exception as e:\n",
    "        print(f\"Error reading {pdf_path}: {e}\")\n",
    "        return \"\"\n"
   ]
  },
  {
   "cell_type": "code",
   "execution_count": 4,
   "id": "a5980adb",
   "metadata": {},
   "outputs": [],
   "source": [
    "# 4. Create a small manually labeled dataset (add more for better accuracy)\n",
    "# Label: 1 = Relevant (OTA), 0 = Non-Relevant\n",
    "data = [\n",
    "    (\"This invention relates to OTA software updates for ECUs in vehicles.\", 1),\n",
    "    (\"A mechanical gear system used in industrial automation.\", 0),\n",
    "    (\"Firmware update protocol using telematics over the air.\", 1),\n",
    "    (\"Hydraulic brake system with improved piston design.\", 0),\n",
    "    (\"Cloud-controlled OTA management for vehicle systems.\", 1),\n",
    "    (\"Improved shock absorbers for two-wheelers.\", 0)\n",
    "]\n",
    "\n",
    "df = pd.DataFrame(data, columns=[\"text\", \"label\"])\n",
    "train_texts, test_texts, train_labels, test_labels = train_test_split(df['text'], df['label'], test_size=0.2)\n",
    "\n",
    "train_dataset = Dataset.from_dict({\"text\": train_texts.tolist(), \"label\": train_labels.tolist()})\n",
    "test_dataset = Dataset.from_dict({\"text\": test_texts.tolist(), \"label\": test_labels.tolist()})\n"
   ]
  },
  {
   "cell_type": "code",
   "execution_count": 5,
   "id": "0a65e20a",
   "metadata": {},
   "outputs": [
    {
     "name": "stderr",
     "output_type": "stream",
     "text": [
      "Map: 100%|██████████| 4/4 [00:00<00:00, 199.92 examples/s]\n",
      "Map: 100%|██████████| 2/2 [00:00<00:00, 183.83 examples/s]\n"
     ]
    }
   ],
   "source": [
    "# 5. Tokenization\n",
    "tokenizer = BertTokenizerFast.from_pretrained('bert-base-uncased')\n",
    "\n",
    "def tokenize(batch):\n",
    "    return tokenizer(batch['text'], padding=True, truncation=True)\n",
    "\n",
    "train_dataset = train_dataset.map(tokenize, batched=True)\n",
    "test_dataset = test_dataset.map(tokenize, batched=True)\n"
   ]
  },
  {
   "cell_type": "code",
   "execution_count": 6,
   "id": "e164714f",
   "metadata": {},
   "outputs": [
    {
     "name": "stderr",
     "output_type": "stream",
     "text": [
      "Some weights of BertForSequenceClassification were not initialized from the model checkpoint at bert-base-uncased and are newly initialized: ['classifier.bias', 'classifier.weight']\n",
      "You should probably TRAIN this model on a down-stream task to be able to use it for predictions and inference.\n",
      "C:\\Users\\ITinframanage\\AppData\\Local\\Packages\\PythonSoftwareFoundation.Python.3.11_qbz5n2kfra8p0\\LocalCache\\local-packages\\Python311\\site-packages\\transformers\\training_args.py:1568: FutureWarning: `evaluation_strategy` is deprecated and will be removed in version 4.46 of 🤗 Transformers. Use `eval_strategy` instead\n",
      "  warnings.warn(\n",
      "C:\\Users\\ITinframanage\\AppData\\Local\\Temp\\ipykernel_10904\\375146976.py:14: FutureWarning: `tokenizer` is deprecated and will be removed in version 5.0.0 for `Trainer.__init__`. Use `processing_class` instead.\n",
      "  trainer = Trainer(\n",
      "                                              \n",
      " 20%|██        | 2/10 [00:02<00:10,  1.31s/it]"
     ]
    },
    {
     "name": "stdout",
     "output_type": "stream",
     "text": [
      "{'eval_loss': 0.6878044605255127, 'eval_runtime': 0.0591, 'eval_samples_per_second': 33.855, 'eval_steps_per_second': 16.927, 'epoch': 1.0}\n"
     ]
    },
    {
     "name": "stderr",
     "output_type": "stream",
     "text": [
      "                                              \n",
      " 40%|████      | 4/10 [00:04<00:06,  1.04s/it]"
     ]
    },
    {
     "name": "stdout",
     "output_type": "stream",
     "text": [
      "{'eval_loss': 0.6522800326347351, 'eval_runtime': 0.0684, 'eval_samples_per_second': 29.219, 'eval_steps_per_second': 14.609, 'epoch': 2.0}\n"
     ]
    },
    {
     "name": "stderr",
     "output_type": "stream",
     "text": [
      " 50%|█████     | 5/10 [00:05<00:05,  1.06s/it]"
     ]
    },
    {
     "name": "stdout",
     "output_type": "stream",
     "text": [
      "{'loss': 0.6174, 'grad_norm': 14.743284225463867, 'learning_rate': 2.5e-05, 'epoch': 2.5}\n"
     ]
    },
    {
     "name": "stderr",
     "output_type": "stream",
     "text": [
      "                                              \n",
      " 60%|██████    | 6/10 [00:06<00:04,  1.04s/it]"
     ]
    },
    {
     "name": "stdout",
     "output_type": "stream",
     "text": [
      "{'eval_loss': 0.6284276247024536, 'eval_runtime': 0.064, 'eval_samples_per_second': 31.258, 'eval_steps_per_second': 15.629, 'epoch': 3.0}\n"
     ]
    },
    {
     "name": "stderr",
     "output_type": "stream",
     "text": [
      "                                              \n",
      " 80%|████████  | 8/10 [00:08<00:01,  1.04it/s]"
     ]
    },
    {
     "name": "stdout",
     "output_type": "stream",
     "text": [
      "{'eval_loss': 0.6073078513145447, 'eval_runtime': 0.0716, 'eval_samples_per_second': 27.925, 'eval_steps_per_second': 13.963, 'epoch': 4.0}\n"
     ]
    },
    {
     "name": "stderr",
     "output_type": "stream",
     "text": [
      "100%|██████████| 10/10 [00:10<00:00,  1.08it/s]"
     ]
    },
    {
     "name": "stdout",
     "output_type": "stream",
     "text": [
      "{'loss': 0.4256, 'grad_norm': 9.87718391418457, 'learning_rate': 0.0, 'epoch': 5.0}\n"
     ]
    },
    {
     "name": "stderr",
     "output_type": "stream",
     "text": [
      "                                               \n",
      "100%|██████████| 10/10 [00:12<00:00,  1.20s/it]\n"
     ]
    },
    {
     "name": "stdout",
     "output_type": "stream",
     "text": [
      "{'eval_loss': 0.5983909368515015, 'eval_runtime': 0.0771, 'eval_samples_per_second': 25.928, 'eval_steps_per_second': 12.964, 'epoch': 5.0}\n",
      "{'train_runtime': 12.0233, 'train_samples_per_second': 1.663, 'train_steps_per_second': 0.832, 'train_loss': 0.5215099334716797, 'epoch': 5.0}\n"
     ]
    }
   ],
   "source": [
    "# 6. Load and Fine-tune BERT\n",
    "model = BertForSequenceClassification.from_pretrained(\"bert-base-uncased\", num_labels=2)\n",
    "\n",
    "training_args = TrainingArguments(\n",
    "    output_dir=\"./bert_ota_results\",\n",
    "    num_train_epochs=5,\n",
    "    per_device_train_batch_size=2,\n",
    "    per_device_eval_batch_size=2,\n",
    "    evaluation_strategy=\"epoch\",\n",
    "    logging_dir=\"./logs\",\n",
    "    logging_steps=5\n",
    ")\n",
    "\n",
    "trainer = Trainer(\n",
    "    model=model,\n",
    "    args=training_args,\n",
    "    train_dataset=train_dataset,\n",
    "    eval_dataset=test_dataset,\n",
    "    tokenizer=tokenizer\n",
    ")\n",
    "\n",
    "trainer.train()\n",
    "trainer.save_model(\"./bert_ota_model\")\n"
   ]
  },
  {
   "cell_type": "code",
   "execution_count": 7,
   "id": "794e2cbd",
   "metadata": {},
   "outputs": [],
   "source": [
    "# 7. Hybrid Classification Function (rule + BERT)\n",
    "def classify_pdf_file(path):\n",
    "    text = extract_text_from_pdf(path)\n",
    "    if not text:\n",
    "        return \"Unreadable\"\n",
    "\n",
    "    if keyword_match(text):\n",
    "        return \"Relevant (Rule)\"\n",
    "\n",
    "    inputs = tokenizer(text, return_tensors=\"pt\", truncation=True, padding=True, max_length=512)\n",
    "    with torch.no_grad():\n",
    "        outputs = model(**inputs)\n",
    "        prediction = torch.argmax(outputs.logits, dim=1).item()\n",
    "    return \"Relevant (BERT)\" if prediction == 1 else \"Non-Relevant\"\n"
   ]
  },
  {
   "cell_type": "code",
   "execution_count": 8,
   "id": "77c11590",
   "metadata": {},
   "outputs": [
    {
     "name": "stderr",
     "output_type": "stream",
     "text": [
      "100%|██████████| 7/7 [00:05<00:00,  1.23it/s]"
     ]
    },
    {
     "name": "stdout",
     "output_type": "stream",
     "text": [
      "                  Filename   Classification\n",
      "0        US10220899_TW.pdf  Relevant (BERT)\n",
      "1        US11034404_TW.pdf     Non-Relevant\n",
      "2  US20220187870A1_NTW.pdf  Relevant (BERT)\n",
      "3         US8100214_TW.pdf     Non-Relevant\n",
      "4        US9335924_NTW.pdf  Relevant (BERT)\n",
      "5         USD748738_TW.pdf  Relevant (BERT)\n"
     ]
    },
    {
     "name": "stderr",
     "output_type": "stream",
     "text": [
      "\n"
     ]
    }
   ],
   "source": [
    "# 8. Classify all files in the folder\n",
    "PDF_FOLDER = \"IP_Documents\"\n",
    "results = []\n",
    "\n",
    "for filename in tqdm(os.listdir(PDF_FOLDER)):\n",
    "    if filename.lower().endswith(\".pdf\"):\n",
    "        path = os.path.join(PDF_FOLDER, filename)\n",
    "        label = classify_pdf_file(path)\n",
    "        results.append((filename, label))\n",
    "\n",
    "# Save results\n",
    "df_out = pd.DataFrame(results, columns=[\"Filename\", \"Classification\"])\n",
    "df_out.to_csv(\"OTA_Classification_Results.csv\", index=False)\n",
    "print(df_out)\n"
   ]
  }
 ],
 "metadata": {
  "kernelspec": {
   "display_name": "Python 3",
   "language": "python",
   "name": "python3"
  },
  "language_info": {
   "codemirror_mode": {
    "name": "ipython",
    "version": 3
   },
   "file_extension": ".py",
   "mimetype": "text/x-python",
   "name": "python",
   "nbconvert_exporter": "python",
   "pygments_lexer": "ipython3",
   "version": "3.11.9"
  }
 },
 "nbformat": 4,
 "nbformat_minor": 5
}
